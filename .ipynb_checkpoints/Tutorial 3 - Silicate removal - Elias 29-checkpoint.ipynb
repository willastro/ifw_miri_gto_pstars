{
 "cells": [
  {
   "cell_type": "markdown",
   "id": "0022c3bc",
   "metadata": {},
   "source": [
    "# Introduction to the ice fitting workshop - 10/jun/2022"
   ]
  },
  {
   "cell_type": "markdown",
   "id": "300d7d74",
   "metadata": {},
   "source": [
    "### Silicate subtraction\n",
    "\n",
    "Silicate has two strong features in the infrared, i.e., 9.8 $\\mu$m and 18 $\\mu$m, which are clearly visible in most of the protostellar spectrum. Some molecules in ices, also have abosorption bands around 9 $\\mu$m. For this reason, the silicate features must be subtracted off in order to isolate the ice bands.\n",
    "\n",
    "The two common methods to extract the silicate features are:\n",
    "\n",
    "1) Local polynomial continuum;\n",
    "\n",
    "2) Silciate template subtraction.\n",
    "\n",
    "In this tutorial we focus on the second methodology. In particular, we use the silicate profile observed the source GCS3, which is taken from Kemper et al. (2004), ApJ, 609, 826.\n",
    "This methodology was also adopted by Bottinelli et al. (2010), ApJ, 718, 1100.\n",
    "\n",
    "© Copyright 2022, Giulia Perotti, Will Rocha"
   ]
  },
  {
   "cell_type": "code",
   "execution_count": 47,
   "id": "9aaaa171",
   "metadata": {},
   "outputs": [],
   "source": [
    "import numpy as np\n",
    "import matplotlib.pyplot as plt\n",
    "import os\n",
    "import glob\n",
    "from scipy.interpolate import interp1d\n",
    "from numpy import exp, loadtxt, pi, sqrt\n",
    "from lmfit import Model\n",
    "from lmfit.model import save_modelresult\n",
    "import site\n",
    "%matplotlib inline"
   ]
  },
  {
   "cell_type": "code",
   "execution_count": 48,
   "id": "0a857d23",
   "metadata": {},
   "outputs": [
    {
     "name": "stdout",
     "output_type": "stream",
     "text": [
      "Performing deconvolution by Lorentzian or Gaussian of the silicate profile...\n"
     ]
    }
   ],
   "source": [
    "#======================================================================\n",
    "print('Performing deconvolution by Lorentzian or Gaussian of the silicate profile...')\n",
    "#======================================================================\n",
    "\n",
    "def get_line_number2(value, matrix):\n",
    "    \"\"\"\n",
    "    Function used to get the line number of a value in a array.\n",
    "    \n",
    "    Parameters\n",
    "    -------------\n",
    "    \n",
    "    value : 'float'\n",
    "        Value of interest.\n",
    "    \n",
    "    matrix : 'numpy.ndarray'\n",
    "        Vector with the value of interest.\n",
    "    \n",
    "    Returns\n",
    "    ------------\n",
    "    \n",
    "    Index\n",
    "        \n",
    "    \"\"\"\n",
    "    for i, line in enumerate(matrix, 1):\n",
    "        if line == value:\n",
    "            return i\n",
    "\n",
    "\n",
    "def find_nearest(array, value):\n",
    "    \"\"\"\n",
    "    Find nearest value of a given number.\n",
    "    \n",
    "    Parameters\n",
    "    -------------\n",
    "    \n",
    "    array : 'numpy.ndarray'\n",
    "        Vector with the value of interest.\n",
    "    \n",
    "    value : 'float'\n",
    "        Value of interest.\n",
    "    \n",
    "    Returns\n",
    "    -------------\n",
    "    Nearest value\n",
    "        \n",
    "    \"\"\"\n",
    "    array = np.asarray(array)\n",
    "    idx = (np.abs(array - value)).argmin()\n",
    "    return array[idx]\n",
    "dir = os.getcwd()\n"
   ]
  },
  {
   "cell_type": "code",
   "execution_count": 60,
   "id": "9f9ab98b",
   "metadata": {},
   "outputs": [],
   "source": [
    "def extract_silicate(filename, xmin, xmax, npoints, silicate_guess_factor):\n",
    "    \"\"\"\n",
    "    Used to combine files in the genetic algorithm spectral decomposition.\n",
    "    \n",
    "    Parameters\n",
    "    -------------\n",
    "    \n",
    "    filename : 'str'\n",
    "        Optical depth file.\n",
    "    \n",
    "    xmin, xmax : 'float'\n",
    "        Range used in the spectral decomposition.\n",
    "    \n",
    "        \n",
    "    \n",
    "    Returns\n",
    "    -------------\n",
    "    \n",
    "    File 'New_tau_no_silic_'+name_source+'.txt' With the optical depth without the silicate profile.\n",
    "    \n",
    "    \"\"\"\n",
    "    fig = plt.figure()\n",
    "    ###################SILICATE PROFILE############\n",
    "    DIR = os.getcwd() + '/'\n",
    "    tau_data = filename\n",
    "    t = np.loadtxt(tau_data).T\n",
    "    xtau = t[0]\n",
    "    ytau = t[1]\n",
    "    etau = t[2]\n",
    "    \n",
    "    \n",
    "    name_source = filename.split('.')[0]\n",
    "    \n",
    "    #t0 = np.loadtxt('Silicate_GCS3_new.out').T\n",
    "    t0 = np.loadtxt('GCS3.dat').T\n",
    "    x_silic0 = t0[0]\n",
    "    y_silic0 = t0[1]*silicate_guess_factor\n",
    "    \n",
    "    #exit()\n",
    "    \n",
    "    npoints = npoints\n",
    "    pp1 = find_nearest(xtau, xmin)\n",
    "    pp2 = find_nearest(xtau, xmax)\n",
    "    \n",
    "    tt = np.linspace(pp1, pp2, int(npoints))\n",
    "    \n",
    "    \n",
    "    Fd_silic0 = interp1d(x_silic0,y_silic0, kind='linear')    #interpolate silicate data\n",
    "    Fsilic0 = Fd_silic0(tt)\n",
    "    \n",
    "    Finp0 = interp1d(xtau,ytau, kind='linear')    #interpolate silicate data\n",
    "    Finp = Finp0(tt)\n",
    "    \n",
    "    Fetau0 = interp1d(xtau,etau, kind='linear')    #interpolate silicate data\n",
    "    Fetau = Fetau0(tt)\n",
    "    \n",
    "    plt.plot(tt, Fsilic0, label='CGS3 silicate (guess)', color='limegreen')\n",
    "    \n",
    "    tau_nosilic = Finp - Fsilic0\n",
    "    \n",
    "    np.savetxt('Removed_silicate_spectrum.txt', np.transpose([tt, tau_nosilic,Fetau]))\n",
    "    \n",
    "    \n",
    "    taumax = max(ytau) + 0.1*max(ytau)\n",
    "    \n",
    "    plt.plot(xtau, ytau, color= 'black', label=name_source)\n",
    "    plt.plot(tt, tau_nosilic, color= 'blue', label=name_source+' '+'(Removed Silicate)')\n",
    "    #plt.plot(tt, ytau*0., ':', color='lightgrey')\n",
    "    plt.minorticks_on()\n",
    "    plt.tick_params(which='major', direction='in', labelsize=10)\n",
    "    plt.tick_params(which='minor', direction='in', labelsize=10)\n",
    "    plt.xlim(min(tt),max(tt))\n",
    "    plt.ylim(taumax,-0.1)\n",
    "    plt.legend(loc='best', frameon=False, fontsize=9)\n",
    "    plt.ylabel(r'Optical Depth$\\mathrm{(\\tau_{\\lambda})}$',fontsize=10)\n",
    "    plt.xlabel(r'$\\lambda\\ \\mathrm{[\\mu m]}$',fontsize=10)\n",
    "    \n",
    "    plt.savefig('Silicate_extract.pdf',format='pdf', bbox_inches='tight', dpi=300)"
   ]
  },
  {
   "cell_type": "code",
   "execution_count": 64,
   "id": "5e65697e",
   "metadata": {},
   "outputs": [
    {
     "data": {
      "image/png": "[encoded data removed]",
      "text/plain": [
       "<Figure size 432x288 with 1 Axes>"
      ]
     },
     "metadata": {
      "needs_background": "light"
     },
     "output_type": "display_data"
    }
   ],
   "source": [
    "filename = 'OD_EL29.dat'\n",
    "extract_silicate(filename, 2.5, 28., 5000, 1.0)"
   ]
  },
  {
   "cell_type": "code",
   "execution_count": null,
   "id": "6736af7e",
   "metadata": {},
   "outputs": [],
   "source": []
  }
 ],
 "metadata": {
  "kernelspec": {
   "display_name": "Python 3 (ipykernel)",
   "language": "python",
   "name": "python3"
  },
  "language_info": {
   "codemirror_mode": {
    "name": "ipython",
    "version": 3
   },
   "file_extension": ".py",
   "mimetype": "text/x-python",
   "name": "python",
   "nbconvert_exporter": "python",
   "pygments_lexer": "ipython3",
   "version": "3.9.12"
  }
 },
 "nbformat": 4,
 "nbformat_minor": 5
}
