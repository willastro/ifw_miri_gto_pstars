{
 "cells": [
  {
   "cell_type": "markdown",
   "metadata": {},
   "source": [
    "# OMNIFIT: W33A\n",
    "\n",
    "The code below shows one example of how to fit the full 5-28 micron spectrum of the high-mass protostar W33A (or only some selected bands) with empirically acquired spectra, export the raw fit results and plot them.\n",
    "\n",
    "The W33A spectrum originates from a file which contains the wavelength and the optical depth. Note that silicate removal has already been performed and additionally, a water spectrum has been substracted from the optical depth spectrum. The empirical spectra being fitted to the observational spectrum, by contrast, are files containing sets of data describing the complex refractive index of the selected ice species. In particular, the first column of each empirical data file contains the wavelength of the spectrum (in microns), and the second and third columns list the real and imaginary parts of the complex refractive index. \n",
    "\n",
    "The full documentation of OMNIFIT can be found here: https://ricemunk.github.io/omnifit/doc/overview.html and http://oro.open.ac.uk/61309/\n",
    "\n",
    "© Copyright 2022, Giulia Perotti, Will Rocha"
   ]
  },
  {
   "cell_type": "markdown",
   "metadata": {},
   "source": [
    "# Import the various components needed for the full fit"
   ]
  },
  {
   "cell_type": "code",
   "execution_count": 9,
   "metadata": {},
   "outputs": [],
   "source": [
    "import astropy.io.ascii as asciitable\n",
    "from astropy.io import ascii\n",
    "import matplotlib.pyplot as plt\n",
    "from matplotlib.ticker import FormatStrFormatter\n",
    "from matplotlib.lines import Line2D\n",
    "import numpy as np\n",
    "from omnifit.spectrum import AbsorptionSpectrum,CDESpectrum\n",
    "from omnifit.utils import unit_od\n",
    "import astropy.units as u\n",
    "from omnifit.fitter import Fitter\n",
    "from lmfit import Parameters    \n",
    "#import lxml\n",
    "#import csv\n",
    "%matplotlib inline"
   ]
  },
  {
   "cell_type": "markdown",
   "metadata": {},
   "source": [
    "Read the input data from the files which contain i) the spectrum of W33A and ii) the complex refractive index spectra."
   ]
  },
  {
   "cell_type": "code",
   "execution_count": 10,
   "metadata": {},
   "outputs": [],
   "source": [
    "obs_wl,obs_od = np.loadtxt('specs/w33a_spitzer_tau.dat', skiprows=19, dtype=float, usecols=(0,3)).T                                         \n",
    "lab_wl1,lab_n1,lab_k1= np.loadtxt('nk/co2-a-Gerakines2020.txt', skiprows=14, dtype=float, usecols=(0,1,2)).T \n",
    "#lab_wl2,lab_n2,lab_k2= np.loadtxt('nk/h2o_Rocha.txt', skiprows=27, dtype=float, usecols=(0,1,2)).T \n",
    "#lab_wl3,lab_n3,lab_k3= np.loadtxt('nk/ch4-a-Gerakines2020.txt', skiprows=16, dtype=float,usecols=(0,1,2)).T                   \n",
    "#lab_wl4,lab_n4,lab_k4= np.loadtxt('nk/co-a-Palumbo2006.txt', skiprows=21, dtype=float, usecols=(0,1,2)).T                 \n",
    "#lab_wl5,lab_n5,lab_k5= np.loadtxt('nk/ch3oh-a-Gerakines2020.txt', skiprows=14, dtype=float, usecols=(0,1,2)).T \n",
    "#lab_wl6,lab_n6,lab_k6= np.loadtxt('nk/nh3_Roser_2021.txt', skiprows=15, dtype=float, usecols=(1,2,3)).T "
   ]
  },
  {
   "cell_type": "markdown",
   "metadata": {},
   "source": [
    "Convert the first column of the complex refractive index data from wavelenghts to reciprocal wavenumbers."
   ]
  },
  {
   "cell_type": "code",
   "execution_count": 11,
   "metadata": {},
   "outputs": [],
   "source": [
    "lab_wn1=1e4/lab_wl1\n",
    "#lab_wn2=1e4/lab_wl2\n",
    "#lab_wn3=1e4/lab_wl3\n",
    "#lab_wn4=1e4/lab_wl4\n",
    "#lab_wn5=1e4/lab_wl5\n",
    "#lab_wn6=1e4/lab_wl6"
   ]
  },
  {
   "cell_type": "markdown",
   "metadata": {},
   "source": [
    "Initialise the target spectrum as an absorption spectrum and the CDE-corrected spectra using the data read in the cells above. "
   ]
  },
  {
   "cell_type": "code",
   "execution_count": 12,
   "metadata": {},
   "outputs": [
    {
     "name": "stderr",
     "output_type": "stream",
     "text": [
      "/Users/willrocha/Downloads/omnifit_ifw/omnifit/spectrum/spectrum.py:722: RuntimeWarning: Input wn is not in kayser units. Converting...\n",
      "  warnings.warn(\n"
     ]
    }
   ],
   "source": [
    "obs_spec = AbsorptionSpectrum(obs_wl*u.micron,obs_od*unit_od,specname='Observed data')                          \n",
    "lab_spec1= CDESpectrum(lab_wn1,lab_n1+lab_k1*1j,specname='Laboratory data')                         \n",
    "#lab_spec2= CDESpectrum(lab_wn2,lab_n2+lab_k2*1j,specname='Laboratory data')\n",
    "#lab_spec3= CDESpectrum(lab_wn3,lab_n3+lab_k3*1j,specname='Laboratory data')\n",
    "#lab_spec4= CDESpectrum(lab_wn4,lab_n4+lab_k4*1j,specname='Laboratory data')\n",
    "#lab_spec5= CDESpectrum(lab_wn5,lab_n5+lab_k5*1j,specname='Laboratory data')\n",
    "#lab_spec6= CDESpectrum(lab_wn6,lab_n6+lab_k6*1j,specname='Laboratory data')"
   ]
  },
  {
   "cell_type": "markdown",
   "metadata": {},
   "source": [
    "Interpolate the data in the CDE-corrected spectra to match the spectral resolution of the spectrum of W33A. Once this is done, the fitter is initialised."
   ]
  },
  {
   "cell_type": "code",
   "execution_count": 13,
   "metadata": {},
   "outputs": [],
   "source": [
    "interp_lab1= lab_spec1.interpolate(obs_spec,clone=True)                          \n",
    "#interp_lab2= lab_spec2.interpolate(obs_spec,clone=True)                                          \n",
    "#interp_lab3= lab_spec3.interpolate(obs_spec,clone=True)\n",
    "#interp_lab4= lab_spec4.interpolate(obs_spec,clone=True)\n",
    "#interp_lab5= lab_spec5.interpolate(obs_spec,clone=True)\n",
    "#interp_lab6= lab_spec6.interpolate(obs_spec,clone=True) \n",
    "\n",
    "fitter= Fitter.fromspectrum(obs_spec,dy=3.0,modelname='W33A',fitrange=[[650,800]])"
   ]
  },
  {
   "cell_type": "markdown",
   "metadata": {},
   "source": [
    "Note: multiple fitting range (in reciprocal wavenumbers) can be specified, if desired, when initializing the fitter. e.g. fitter= Fitter.fromspectrum(obs_spec,dy=3.0,modelname='W33A', fitrange=[[2777,2940],[3222,3267],[3400,3500]]). This argument is inserted if only specific regions of the observed spectrum wants to be fitted. "
   ]
  },
  {
   "cell_type": "markdown",
   "metadata": {},
   "source": [
    "# Prepare the fitting parameters"
   ]
  },
  {
   "cell_type": "markdown",
   "metadata": {},
   "source": [
    "Prepare the fitting parameters for an empirical data, containing only an initial guess (0.5) for the best-fit multiplier (k). These parameters and the data to be fitted are then given to the fitter."
   ]
  },
  {
   "cell_type": "code",
   "execution_count": 14,
   "metadata": {},
   "outputs": [],
   "source": [
    "lab_par1=Parameters()\n",
    "#lab_par2=Parameters()\n",
    "#lab_par3=Parameters()\n",
    "#lab_par4=Parameters()\n",
    "\n",
    "lab_par1.add('mul',value=0.5,min=0.0)                                                             \n",
    "#lab_par2.add('mul',value=0.5,min=0.0)\n",
    "#lab_par3.add('mul',value=0.5,min=0.0)   \n",
    "#lab_par4.add('mul',value=0.5,min=0.0) \n",
    "\n",
    "fitter.add_empirical(interp_lab1,lab_par1,funcname='CO2', color='cyan')  \n",
    "#fitter.add_empirical(interp_lab2,lab_par2,funcname='H2O',color='m')\n",
    "#fitter.add_empirical(interp_lab3,lab_par3,funcname='CH4',color='dodgerblue')\n",
    "#fitter.add_empirical(interp_lab4,lab_par4,funcname='CO',color='orange')\n"
   ]
  },
  {
   "cell_type": "markdown",
   "metadata": {},
   "source": [
    "# Perform the fitting"
   ]
  },
  {
   "cell_type": "code",
   "execution_count": 15,
   "metadata": {},
   "outputs": [],
   "source": [
    "fitter.perform_fit()\n",
    "fitter.fitresults_tofile('fitting_results/fitres_w33a') "
   ]
  },
  {
   "cell_type": "markdown",
   "metadata": {},
   "source": [
    "After it is done, two output files are produced, fitres_w33a.csv and fitres_w33a.xml, which contain all the information on the fit results. "
   ]
  },
  {
   "cell_type": "markdown",
   "metadata": {},
   "source": [
    "# Plot the fit results"
   ]
  },
  {
   "cell_type": "markdown",
   "metadata": {},
   "source": [
    "Produce a plot of the fit results in the file omnifit_w33a.pdf."
   ]
  },
  {
   "cell_type": "code",
   "execution_count": 16,
   "metadata": {
    "scrolled": true
   },
   "outputs": [
    {
     "data": {
      "image/png": "[encoded data removed]",
      "text/plain": [
       "<Figure size 720x720 with 1 Axes>"
      ]
     },
     "metadata": {
      "needs_background": "light"
     },
     "output_type": "display_data"
    }
   ],
   "source": [
    "fig=plt.figure(figsize=(10,10))\n",
    "\n",
    "t= ascii.read('fitting_results/fitres_w33a.csv')  \n",
    "x = 1e4/(t['col1'])\n",
    "y = t['col2']\n",
    "tot = t['col3']\n",
    "lab1 = t['col4']\n",
    "#lab2 = t['col5']\n",
    "#lab3 = t['col6']\n",
    "#lab4 = t['col7']\n",
    "\n",
    "plt.plot(x,y,color='k', lw=1, label='W33A')\n",
    "plt.plot(x,lab1,color='cyan', lw='1.5', label='')          # CO2\n",
    "#plt.plot(x,lab2,color='m', lw=1.5, label='')              # H2O \n",
    "#plt.plot(x,lab3,color='dodgerblue', lw='1.5', label='')   # CH4  \n",
    "#plt.plot(x,lab4,color='orange', lw='1.5', label='')       # CO\n",
    "#plt.plot(x,tot,color='b', lw='1.5', label='')             # Total fit\n",
    "\n",
    "plt.axhline(y=0., xmin=0, xmax=1, color='k',ls='dashed',lw=1.)\n",
    "plt.ylim(6.0,-0.4)\n",
    "#plt.ylim(2.5,-0.2)\n",
    "plt.xlim(5,28)\n",
    "#plt.xlim(2.5,30)\n",
    "plt.ylabel(r'$\\tau$', fontsize='14')\n",
    "plt.xlabel(r'$\\lambda$ [$\\mu$m]', fontsize='14')\n",
    "plt.xticks(fontsize='14')\n",
    "plt.yticks(fontsize='14')\n",
    "custom_lines = [Line2D([0], [0], color='k', lw=1.5),\n",
    "#Line2D([0], [0], color='m', lw=1.5),\n",
    "#Line2D([0], [0], color='dodgerblue', lw=1.5),\n",
    "#Line2D([0], [0], color='orange', lw=1.5),\n",
    "Line2D([0], [0], color='cyan', lw=1.5)] \n",
    "#Line2D([0], [0], color='b', lw=1.5)] \n",
    "plt.legend(custom_lines, ['W33A','CO$_2$'], loc='lower right', prop={'size': 16})\n",
    "\n",
    "plt.savefig('figures/omnifit_w33a.pdf')"
   ]
  },
  {
   "cell_type": "code",
   "execution_count": null,
   "metadata": {},
   "outputs": [],
   "source": []
  }
 ],
 "metadata": {
  "kernelspec": {
   "display_name": "Python 3 (ipykernel)",
   "language": "python",
   "name": "python3"
  },
  "language_info": {
   "codemirror_mode": {
    "name": "ipython",
    "version": 3
   },
   "file_extension": ".py",
   "mimetype": "text/x-python",
   "name": "python",
   "nbconvert_exporter": "python",
   "pygments_lexer": "ipython3",
   "version": "3.9.12"
  }
 },
 "nbformat": 4,
 "nbformat_minor": 4
}
